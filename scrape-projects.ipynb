{
 "cells": [
  {
   "cell_type": "code",
   "execution_count": 4,
   "metadata": {},
   "outputs": [],
   "source": [
    "import time\n",
    "from selenium import webdriver \n",
    "from selenium.common.exceptions import NoSuchElementException, WebDriverException\n",
    "from selenium.webdriver.common.by import By\n",
    "from selenium.webdriver.chrome.service import Service\n",
    "\n",
    "# Create a new Chrome/Firefox browser object\n",
    "driver = webdriver.Chrome()\n"
   ]
  },
  {
   "cell_type": "code",
   "execution_count": null,
   "metadata": {},
   "outputs": [],
   "source": [
    "driver.implicitly_wait(10)\n",
    "driver.get(\"https://awesomeopensource.com/projects/data-visualization?projectPage=5\")"
   ]
  },
  {
   "cell_type": "code",
   "execution_count": 6,
   "metadata": {},
   "outputs": [],
   "source": [
    "list_of_projects = driver.find_elements(By.CLASS_NAME, \"aos_project_container\")"
   ]
  },
  {
   "cell_type": "code",
   "execution_count": 7,
   "metadata": {},
   "outputs": [],
   "source": [
    "time.sleep(3)"
   ]
  },
  {
   "cell_type": "code",
   "execution_count": 8,
   "metadata": {},
   "outputs": [
    {
     "data": {
      "text/plain": [
       "[<selenium.webdriver.remote.webelement.WebElement (session=\"329cd62a8431e517070ea08166404299\", element=\"f.304D8E5B58030029F647B33DF4737FBA.d.E329D5C2C10C9861EA7A9B50B922C243.e.12\")>,\n",
       " <selenium.webdriver.remote.webelement.WebElement (session=\"329cd62a8431e517070ea08166404299\", element=\"f.304D8E5B58030029F647B33DF4737FBA.d.E329D5C2C10C9861EA7A9B50B922C243.e.13\")>,\n",
       " <selenium.webdriver.remote.webelement.WebElement (session=\"329cd62a8431e517070ea08166404299\", element=\"f.304D8E5B58030029F647B33DF4737FBA.d.E329D5C2C10C9861EA7A9B50B922C243.e.14\")>,\n",
       " <selenium.webdriver.remote.webelement.WebElement (session=\"329cd62a8431e517070ea08166404299\", element=\"f.304D8E5B58030029F647B33DF4737FBA.d.E329D5C2C10C9861EA7A9B50B922C243.e.15\")>,\n",
       " <selenium.webdriver.remote.webelement.WebElement (session=\"329cd62a8431e517070ea08166404299\", element=\"f.304D8E5B58030029F647B33DF4737FBA.d.E329D5C2C10C9861EA7A9B50B922C243.e.16\")>]"
      ]
     },
     "execution_count": 8,
     "metadata": {},
     "output_type": "execute_result"
    }
   ],
   "source": [
    "list_of_projects[:5]"
   ]
  },
  {
   "cell_type": "code",
   "execution_count": 9,
   "metadata": {},
   "outputs": [
    {
     "name": "stdout",
     "output_type": "stream",
     "text": [
      "Matplotlib Doc Zh ⭐ 183\n",
      "['Matplotlib', 'Doc', 'Zh']\n",
      "Kravis ⭐ 180\n",
      "['Kravis']\n",
      "Leaflet Echarts ⭐ 178\n",
      "['Leaflet', 'Echarts']\n",
      "Reactablefmtr ⭐ 178\n",
      "['Reactablefmtr']\n",
      "Colorgrad ⭐ 177\n",
      "['Colorgrad']\n",
      "Programming Languages Influence ⭐ 176\n",
      "['Programming', 'Languages', 'Influence']\n",
      "Billboarder ⭐ 174\n",
      "['Billboarder']\n",
      "Dash Oil And Gas Demo ⭐ 173\n",
      "['Dash', 'Oil', 'And', 'Gas', 'Demo']\n",
      "Ascent ⭐ 172\n",
      "['Ascent']\n",
      "Mydatascienceportfolio ⭐ 172\n",
      "['Mydatascienceportfolio']\n",
      "Data Analyst Roadmap ⭐ 170\n",
      "['Data', 'Analyst', 'Roadmap']\n",
      "Gtextras ⭐ 170\n",
      "['Gtextras']\n",
      "Ggplot2 Graphic Design ⭐ 170\n",
      "['Ggplot2', 'Graphic', 'Design']\n",
      "Ggplotnim ⭐ 169\n",
      "['Ggplotnim']\n",
      "Western_constellations_atlas_of_space ⭐ 169\n",
      "['Western_constellations_atlas_of_space']\n",
      "Chartello ⭐ 166\n",
      "['Chartello']\n",
      "Scalable Data Visualization ⭐ 166\n",
      "['Scalable', 'Data', 'Visualization']\n",
      "Flex Table Card ⭐ 165\n",
      "['Flex', 'Table', 'Card']\n",
      "Vs ⭐ 164\n",
      "['Vs']\n",
      "Mars_geology_atlas_of_space ⭐ 161\n",
      "['Mars_geology_atlas_of_space']\n",
      "Python Ecology Lesson ⭐ 160\n",
      "['Python', 'Ecology', 'Lesson']\n",
      "Opentrees ⭐ 159\n",
      "['Opentrees']\n",
      "Slopegraph ⭐ 159\n",
      "['Slopegraph']\n",
      "Ggplotnim ⭐ 169\n",
      "['Ggplotnim']\n",
      "Peripheryplots ⭐ 32\n",
      "['Peripheryplots']\n",
      "Muze ⭐ 1,094\n",
      "['Muze']\n",
      "Smart Table ⭐ 11\n",
      "['Smart', 'Table']\n",
      "Vizard ⭐ 155\n",
      "['Vizard']\n",
      "Jutsu ⭐ 62\n",
      "['Jutsu']\n",
      "Py Roughviz ⭐ 46\n",
      "['Py', 'Roughviz']\n",
      "Rthreejs ⭐ 277\n",
      "['Rthreejs']\n",
      "Kyrix ⭐ 115\n",
      "['Kyrix']\n",
      "Ervy ⭐ 1,574\n",
      "['Ervy']\n"
     ]
    }
   ],
   "source": [
    "list_of_names = []\n",
    "for project in list_of_projects:\n",
    "    name_element = project.find_element(By.CLASS_NAME, \"aos_no_underline\")\n",
    "    name_text = name_element.text\n",
    "    print(name_text)\n",
    "    name_words = name_text.split()[:-2]  # Loại bỏ 2 từ cuối\n",
    "    list_of_names.append(name_words)\n",
    "    print(name_words)\n"
   ]
  },
  {
   "cell_type": "code",
   "execution_count": 10,
   "metadata": {},
   "outputs": [],
   "source": [
    "time.sleep(3)"
   ]
  },
  {
   "cell_type": "code",
   "execution_count": 11,
   "metadata": {},
   "outputs": [],
   "source": [
    "list_of_names = [' '.join(names) for names in list_of_names]"
   ]
  },
  {
   "cell_type": "code",
   "execution_count": 12,
   "metadata": {},
   "outputs": [
    {
     "data": {
      "text/plain": [
       "['Matplotlib Doc Zh',\n",
       " 'Kravis',\n",
       " 'Leaflet Echarts',\n",
       " 'Reactablefmtr',\n",
       " 'Colorgrad',\n",
       " 'Programming Languages Influence',\n",
       " 'Billboarder',\n",
       " 'Dash Oil And Gas Demo',\n",
       " 'Ascent',\n",
       " 'Mydatascienceportfolio']"
      ]
     },
     "execution_count": 12,
     "metadata": {},
     "output_type": "execute_result"
    }
   ],
   "source": [
    "list_of_names[:10]"
   ]
  },
  {
   "cell_type": "code",
   "execution_count": 13,
   "metadata": {},
   "outputs": [],
   "source": [
    "list_of_links = []\n",
    "for x in list_of_projects:\n",
    "    link_element = x.find_element(By.CLASS_NAME, \"aos_no_underline\")  # Tìm phần tử chứa link\n",
    "    link = link_element.get_attribute(\"href\")  # Lấy giá trị href\n",
    "    list_of_links.append(link)  # Thêm vào danh sách\n"
   ]
  },
  {
   "cell_type": "code",
   "execution_count": 14,
   "metadata": {},
   "outputs": [],
   "source": [
    "time.sleep(3)"
   ]
  },
  {
   "cell_type": "code",
   "execution_count": 15,
   "metadata": {},
   "outputs": [
    {
     "data": {
      "text/plain": [
       "['https://awesomeopensource.com/project/apachecn/matplotlib-doc-zh',\n",
       " 'https://awesomeopensource.com/project/holgerbrandl/kravis',\n",
       " 'https://awesomeopensource.com/project/wandergis/leaflet-echarts',\n",
       " 'https://awesomeopensource.com/project/kcuilla/reactablefmtr',\n",
       " 'https://awesomeopensource.com/project/mazznoer/colorgrad']"
      ]
     },
     "execution_count": 15,
     "metadata": {},
     "output_type": "execute_result"
    }
   ],
   "source": [
    "list_of_links[:5]"
   ]
  },
  {
   "cell_type": "code",
   "execution_count": 16,
   "metadata": {},
   "outputs": [],
   "source": [
    "list_of_counts = []\n",
    "for x in list_of_projects:\n",
    "    count_element = x.find_element(By.CLASS_NAME, \"aos_project_count\")  # Tìm phần tử\n",
    "    count_text = count_element.text.replace(\",\", \"\")  # Xóa dấu phẩy\n",
    "    count_number = float(count_text)  # Chuyển thành số thực\n",
    "    list_of_counts.append(count_number)  # Thêm vào danh sách\n"
   ]
  },
  {
   "cell_type": "code",
   "execution_count": 17,
   "metadata": {},
   "outputs": [
    {
     "data": {
      "text/plain": [
       "[183.0, 180.0, 178.0, 178.0, 177.0]"
      ]
     },
     "execution_count": 17,
     "metadata": {},
     "output_type": "execute_result"
    }
   ],
   "source": [
    "list_of_counts[:5]"
   ]
  },
  {
   "cell_type": "code",
   "execution_count": 18,
   "metadata": {},
   "outputs": [],
   "source": [
    "time.sleep(3)"
   ]
  },
  {
   "cell_type": "code",
   "execution_count": 19,
   "metadata": {},
   "outputs": [],
   "source": [
    "list_of_description = []\n",
    "for x in list_of_projects:\n",
    "    desc_element = x.find_element(By.CLASS_NAME, \"aos_project_description\")  # Tìm phần tử chứa mô tả\n",
    "    description = desc_element.text  # Lấy nội dung văn bản\n",
    "    list_of_description.append(description)  # Thêm vào danh sách\n"
   ]
  },
  {
   "cell_type": "code",
   "execution_count": 20,
   "metadata": {},
   "outputs": [],
   "source": [
    "time.sleep(3)"
   ]
  },
  {
   "cell_type": "code",
   "execution_count": 21,
   "metadata": {},
   "outputs": [
    {
     "data": {
      "text/plain": [
       "['📖 [译] Matplotlib 用户指南',\n",
       " 'A {K}otlin g{ra}mmar for data {vis}ualization',\n",
       " 'A plugin for leaflet to load echarts map and Make big data visualization easier.',\n",
       " 'Streamlined Table Styling and Formatting for Reactable',\n",
       " 'Go (Golang) color scales library for maps, charts, data-visualization & creative coding.']"
      ]
     },
     "execution_count": 21,
     "metadata": {},
     "output_type": "execute_result"
    }
   ],
   "source": [
    "list_of_description[:5]"
   ]
  },
  {
   "cell_type": "code",
   "execution_count": 22,
   "metadata": {},
   "outputs": [],
   "source": [
    "time.sleep(5)"
   ]
  },
  {
   "cell_type": "code",
   "execution_count": 23,
   "metadata": {},
   "outputs": [
    {
     "name": "stdout",
     "output_type": "stream",
     "text": [
      "33 33 33 33\n"
     ]
    }
   ],
   "source": [
    "# check number of project\n",
    "print(len(list_of_names), len(list_of_counts), \n",
    "      len(list_of_links), len(list_of_description))"
   ]
  },
  {
   "cell_type": "code",
   "execution_count": 24,
   "metadata": {},
   "outputs": [],
   "source": [
    "import pandas as pd"
   ]
  },
  {
   "cell_type": "code",
   "execution_count": 25,
   "metadata": {},
   "outputs": [],
   "source": [
    "# dictionary_projects\n",
    "dictionary_projects = {\"name\": list_of_names, \n",
    "                      \"counts\": list_of_counts, \n",
    "                      \"url\": list_of_links, \n",
    "                      'descript': list_of_description}"
   ]
  },
  {
   "cell_type": "code",
   "execution_count": 26,
   "metadata": {},
   "outputs": [
    {
     "data": {
      "text/html": [
       "<div>\n",
       "<style scoped>\n",
       "    .dataframe tbody tr th:only-of-type {\n",
       "        vertical-align: middle;\n",
       "    }\n",
       "\n",
       "    .dataframe tbody tr th {\n",
       "        vertical-align: top;\n",
       "    }\n",
       "\n",
       "    .dataframe thead th {\n",
       "        text-align: right;\n",
       "    }\n",
       "</style>\n",
       "<table border=\"1\" class=\"dataframe\">\n",
       "  <thead>\n",
       "    <tr style=\"text-align: right;\">\n",
       "      <th></th>\n",
       "      <th>name</th>\n",
       "      <th>counts</th>\n",
       "      <th>url</th>\n",
       "      <th>descript</th>\n",
       "    </tr>\n",
       "  </thead>\n",
       "  <tbody>\n",
       "    <tr>\n",
       "      <th>0</th>\n",
       "      <td>Matplotlib Doc Zh</td>\n",
       "      <td>183.0</td>\n",
       "      <td>https://awesomeopensource.com/project/apachecn...</td>\n",
       "      <td>📖 [译] Matplotlib 用户指南</td>\n",
       "    </tr>\n",
       "    <tr>\n",
       "      <th>1</th>\n",
       "      <td>Kravis</td>\n",
       "      <td>180.0</td>\n",
       "      <td>https://awesomeopensource.com/project/holgerbr...</td>\n",
       "      <td>A {K}otlin g{ra}mmar for data {vis}ualization</td>\n",
       "    </tr>\n",
       "    <tr>\n",
       "      <th>2</th>\n",
       "      <td>Leaflet Echarts</td>\n",
       "      <td>178.0</td>\n",
       "      <td>https://awesomeopensource.com/project/wandergi...</td>\n",
       "      <td>A plugin for leaflet to load echarts map and M...</td>\n",
       "    </tr>\n",
       "    <tr>\n",
       "      <th>3</th>\n",
       "      <td>Reactablefmtr</td>\n",
       "      <td>178.0</td>\n",
       "      <td>https://awesomeopensource.com/project/kcuilla/...</td>\n",
       "      <td>Streamlined Table Styling and Formatting for R...</td>\n",
       "    </tr>\n",
       "    <tr>\n",
       "      <th>4</th>\n",
       "      <td>Colorgrad</td>\n",
       "      <td>177.0</td>\n",
       "      <td>https://awesomeopensource.com/project/mazznoer...</td>\n",
       "      <td>Go (Golang) color scales library for maps, cha...</td>\n",
       "    </tr>\n",
       "  </tbody>\n",
       "</table>\n",
       "</div>"
      ],
      "text/plain": [
       "                name  counts  \\\n",
       "0  Matplotlib Doc Zh   183.0   \n",
       "1             Kravis   180.0   \n",
       "2    Leaflet Echarts   178.0   \n",
       "3      Reactablefmtr   178.0   \n",
       "4          Colorgrad   177.0   \n",
       "\n",
       "                                                 url  \\\n",
       "0  https://awesomeopensource.com/project/apachecn...   \n",
       "1  https://awesomeopensource.com/project/holgerbr...   \n",
       "2  https://awesomeopensource.com/project/wandergi...   \n",
       "3  https://awesomeopensource.com/project/kcuilla/...   \n",
       "4  https://awesomeopensource.com/project/mazznoer...   \n",
       "\n",
       "                                            descript  \n",
       "0                              📖 [译] Matplotlib 用户指南  \n",
       "1      A {K}otlin g{ra}mmar for data {vis}ualization  \n",
       "2  A plugin for leaflet to load echarts map and M...  \n",
       "3  Streamlined Table Styling and Formatting for R...  \n",
       "4  Go (Golang) color scales library for maps, cha...  "
      ]
     },
     "execution_count": 26,
     "metadata": {},
     "output_type": "execute_result"
    }
   ],
   "source": [
    "df = pd.DataFrame(dictionary_projects)\n",
    "df.head()"
   ]
  },
  {
   "cell_type": "code",
   "execution_count": null,
   "metadata": {},
   "outputs": [],
   "source": [
    "df.to_excel('projects_5.xlsx')"
   ]
  },
  {
   "cell_type": "code",
   "execution_count": 29,
   "metadata": {},
   "outputs": [],
   "source": [
    "driver.close()"
   ]
  }
 ],
 "metadata": {
  "kernelspec": {
   "display_name": "Python 3",
   "language": "python",
   "name": "python3"
  },
  "language_info": {
   "codemirror_mode": {
    "name": "ipython",
    "version": 3
   },
   "file_extension": ".py",
   "mimetype": "text/x-python",
   "name": "python",
   "nbconvert_exporter": "python",
   "pygments_lexer": "ipython3",
   "version": "3.11.3"
  }
 },
 "nbformat": 4,
 "nbformat_minor": 2
}
